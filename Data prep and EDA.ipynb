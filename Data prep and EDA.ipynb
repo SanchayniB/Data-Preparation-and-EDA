{
 "cells": [
  {
   "cell_type": "markdown",
   "metadata": {},
   "source": [
    "# Data Preprocessing and Exploratory Data Analysis (EDA)"
   ]
  },
  {
   "cell_type": "markdown",
   "metadata": {},
   "source": [
    "## Data preprocessing"
   ]
  },
  {
   "cell_type": "code",
   "execution_count": 1,
   "metadata": {},
   "outputs": [],
   "source": [
    "# importing necessary libraries\n",
    "import numpy as np\n",
    "import pandas as pd\n",
    "\n",
    "# To covert columns into datetime variable type\n",
    "from datetime import datetime\n",
    "\n",
    "# plotting libraries\n",
    "import matplotlib.pyplot as plt\n",
    "import seaborn as sns"
   ]
  },
  {
   "cell_type": "code",
   "execution_count": 2,
   "metadata": {},
   "outputs": [
    {
     "name": "stderr",
     "output_type": "stream",
     "text": [
      "C:\\Users\\Sanchayni\\Anaconda3\\lib\\site-packages\\IPython\\core\\interactiveshell.py:2728: DtypeWarning: Columns (2) have mixed types. Specify dtype option on import or set low_memory=False.\n",
      "  interactivity=interactivity, compiler=compiler, result=result)\n"
     ]
    }
   ],
   "source": [
    "# Let's try reading our data\n",
    "# The data is stored locally in path: C:\\Users\\Sanchayni\\Desktop\\Spring19\\Special Project\\Pothole data\n",
    "pothole_data = pd.read_csv('http://math.iit.edu/~rellis/teaching/497All/497_RR_data/311_Service_Requests.csv')"
   ]
  },
  {
   "cell_type": "markdown",
   "metadata": {},
   "source": [
    "This results in a warning message of potential mixed data type <br>\n",
    "Suggestion: low_memory=False or setting a data type <br>\n",
    "As we don't know what's the datatype of the data before hand lets check what low_memory parameter does"
   ]
  },
  {
   "cell_type": "code",
   "execution_count": 3,
   "metadata": {},
   "outputs": [],
   "source": [
    "?pd.read_csv"
   ]
  },
  {
   "cell_type": "markdown",
   "metadata": {},
   "source": [
    "low_memory : boolean, default True\n",
    "\n",
    "Internally process the file in chunks, resulting in lower memory use\n",
    "while parsing, but possibly mixed type inference.  To ensure no mixed\n",
    "types either set False, or specify the type with the `dtype` parameter.\n",
    "\n",
    "(Doesn't really help. Detailed description: https://rushter.com/blog/pandas-data-type-inference/) "
   ]
  },
  {
   "cell_type": "code",
   "execution_count": 4,
   "metadata": {},
   "outputs": [],
   "source": [
    "pothole_data = pd.read_csv('http://math.iit.edu/~rellis/teaching/497All/497_RR_data/311_Service_Requests.csv', \n",
    "                           low_memory= False)"
   ]
  },
  {
   "cell_type": "code",
   "execution_count": 5,
   "metadata": {},
   "outputs": [
    {
     "data": {
      "text/html": [
       "<div>\n",
       "<style scoped>\n",
       "    .dataframe tbody tr th:only-of-type {\n",
       "        vertical-align: middle;\n",
       "    }\n",
       "\n",
       "    .dataframe tbody tr th {\n",
       "        vertical-align: top;\n",
       "    }\n",
       "\n",
       "    .dataframe thead th {\n",
       "        text-align: right;\n",
       "    }\n",
       "</style>\n",
       "<table border=\"1\" class=\"dataframe\">\n",
       "  <thead>\n",
       "    <tr style=\"text-align: right;\">\n",
       "      <th></th>\n",
       "      <th>CREATION DATE</th>\n",
       "      <th>STATUS</th>\n",
       "      <th>COMPLETION DATE</th>\n",
       "      <th>SERVICE REQUEST NUMBER</th>\n",
       "      <th>TYPE OF SERVICE REQUEST</th>\n",
       "      <th>CURRENT ACTIVITY</th>\n",
       "      <th>MOST RECENT ACTION</th>\n",
       "      <th>NUMBER OF POTHOLES FILLED ON BLOCK</th>\n",
       "      <th>STREET ADDRESS</th>\n",
       "      <th>ZIP</th>\n",
       "      <th>X COORDINATE</th>\n",
       "      <th>Y COORDINATE</th>\n",
       "      <th>Ward</th>\n",
       "      <th>Police District</th>\n",
       "      <th>Community Area</th>\n",
       "      <th>SSA</th>\n",
       "      <th>LATITUDE</th>\n",
       "      <th>LONGITUDE</th>\n",
       "      <th>LOCATION</th>\n",
       "    </tr>\n",
       "  </thead>\n",
       "  <tbody>\n",
       "    <tr>\n",
       "      <th>0</th>\n",
       "      <td>01/01/2011</td>\n",
       "      <td>Completed - Dup</td>\n",
       "      <td>01/03/2011</td>\n",
       "      <td>11-00002110</td>\n",
       "      <td>Pot Hole in Street</td>\n",
       "      <td>NaN</td>\n",
       "      <td>NaN</td>\n",
       "      <td>NaN</td>\n",
       "      <td>7600 S PARNELL AVE</td>\n",
       "      <td>60620.0</td>\n",
       "      <td>1.173863e+06</td>\n",
       "      <td>1.854506e+06</td>\n",
       "      <td>17.0</td>\n",
       "      <td>6.0</td>\n",
       "      <td>69.0</td>\n",
       "      <td>NaN</td>\n",
       "      <td>41.756078</td>\n",
       "      <td>-87.638540</td>\n",
       "      <td>(41.75607825280598, -87.63853957634103)</td>\n",
       "    </tr>\n",
       "    <tr>\n",
       "      <th>1</th>\n",
       "      <td>01/01/2011</td>\n",
       "      <td>Completed - Dup</td>\n",
       "      <td>01/03/2011</td>\n",
       "      <td>11-00002209</td>\n",
       "      <td>Pot Hole in Street</td>\n",
       "      <td>NaN</td>\n",
       "      <td>NaN</td>\n",
       "      <td>NaN</td>\n",
       "      <td>7100 S PULASKI RD</td>\n",
       "      <td>60629.0</td>\n",
       "      <td>1.150934e+06</td>\n",
       "      <td>1.857221e+06</td>\n",
       "      <td>13.0</td>\n",
       "      <td>8.0</td>\n",
       "      <td>65.0</td>\n",
       "      <td>3.0</td>\n",
       "      <td>41.764008</td>\n",
       "      <td>-87.722499</td>\n",
       "      <td>(41.764007749308014, -87.72249910770661)</td>\n",
       "    </tr>\n",
       "    <tr>\n",
       "      <th>2</th>\n",
       "      <td>01/01/2011</td>\n",
       "      <td>Completed - Dup</td>\n",
       "      <td>01/03/2011</td>\n",
       "      <td>11-00002224</td>\n",
       "      <td>Pot Hole in Street</td>\n",
       "      <td>NaN</td>\n",
       "      <td>NaN</td>\n",
       "      <td>NaN</td>\n",
       "      <td>2400 W FULLERTON AVE</td>\n",
       "      <td>60647.0</td>\n",
       "      <td>1.159964e+06</td>\n",
       "      <td>1.915885e+06</td>\n",
       "      <td>1.0</td>\n",
       "      <td>14.0</td>\n",
       "      <td>22.0</td>\n",
       "      <td>NaN</td>\n",
       "      <td>41.925010</td>\n",
       "      <td>-87.687705</td>\n",
       "      <td>(41.92500993476519, -87.68770475222249)</td>\n",
       "    </tr>\n",
       "    <tr>\n",
       "      <th>3</th>\n",
       "      <td>01/01/2011</td>\n",
       "      <td>Completed - Dup</td>\n",
       "      <td>01/03/2011</td>\n",
       "      <td>11-00002247</td>\n",
       "      <td>Pot Hole in Street</td>\n",
       "      <td>NaN</td>\n",
       "      <td>NaN</td>\n",
       "      <td>NaN</td>\n",
       "      <td>11100 S HALSTED ST</td>\n",
       "      <td>60628.0</td>\n",
       "      <td>1.172963e+06</td>\n",
       "      <td>1.831243e+06</td>\n",
       "      <td>34.0</td>\n",
       "      <td>22.0</td>\n",
       "      <td>75.0</td>\n",
       "      <td>45.0</td>\n",
       "      <td>41.692263</td>\n",
       "      <td>-87.642523</td>\n",
       "      <td>(41.692263123425136, -87.6425226876268)</td>\n",
       "    </tr>\n",
       "    <tr>\n",
       "      <th>4</th>\n",
       "      <td>01/01/2011</td>\n",
       "      <td>Completed - Dup</td>\n",
       "      <td>01/03/2011</td>\n",
       "      <td>11-00002276</td>\n",
       "      <td>Pot Hole in Street</td>\n",
       "      <td>NaN</td>\n",
       "      <td>NaN</td>\n",
       "      <td>NaN</td>\n",
       "      <td>1200 S CLARK ST</td>\n",
       "      <td>60605.0</td>\n",
       "      <td>1.175703e+06</td>\n",
       "      <td>1.895045e+06</td>\n",
       "      <td>2.0</td>\n",
       "      <td>1.0</td>\n",
       "      <td>33.0</td>\n",
       "      <td>NaN</td>\n",
       "      <td>41.867286</td>\n",
       "      <td>-87.630581</td>\n",
       "      <td>(41.867286165270755, -87.63058096773683)</td>\n",
       "    </tr>\n",
       "  </tbody>\n",
       "</table>\n",
       "</div>"
      ],
      "text/plain": [
       "  CREATION DATE           STATUS COMPLETION DATE SERVICE REQUEST NUMBER  \\\n",
       "0    01/01/2011  Completed - Dup      01/03/2011            11-00002110   \n",
       "1    01/01/2011  Completed - Dup      01/03/2011            11-00002209   \n",
       "2    01/01/2011  Completed - Dup      01/03/2011            11-00002224   \n",
       "3    01/01/2011  Completed - Dup      01/03/2011            11-00002247   \n",
       "4    01/01/2011  Completed - Dup      01/03/2011            11-00002276   \n",
       "\n",
       "  TYPE OF SERVICE REQUEST CURRENT ACTIVITY MOST RECENT ACTION  \\\n",
       "0      Pot Hole in Street              NaN                NaN   \n",
       "1      Pot Hole in Street              NaN                NaN   \n",
       "2      Pot Hole in Street              NaN                NaN   \n",
       "3      Pot Hole in Street              NaN                NaN   \n",
       "4      Pot Hole in Street              NaN                NaN   \n",
       "\n",
       "   NUMBER OF POTHOLES FILLED ON BLOCK        STREET ADDRESS      ZIP  \\\n",
       "0                                 NaN    7600 S PARNELL AVE  60620.0   \n",
       "1                                 NaN     7100 S PULASKI RD  60629.0   \n",
       "2                                 NaN  2400 W FULLERTON AVE  60647.0   \n",
       "3                                 NaN    11100 S HALSTED ST  60628.0   \n",
       "4                                 NaN       1200 S CLARK ST  60605.0   \n",
       "\n",
       "   X COORDINATE  Y COORDINATE  Ward  Police District  Community Area   SSA  \\\n",
       "0  1.173863e+06  1.854506e+06  17.0              6.0            69.0   NaN   \n",
       "1  1.150934e+06  1.857221e+06  13.0              8.0            65.0   3.0   \n",
       "2  1.159964e+06  1.915885e+06   1.0             14.0            22.0   NaN   \n",
       "3  1.172963e+06  1.831243e+06  34.0             22.0            75.0  45.0   \n",
       "4  1.175703e+06  1.895045e+06   2.0              1.0            33.0   NaN   \n",
       "\n",
       "    LATITUDE  LONGITUDE                                  LOCATION  \n",
       "0  41.756078 -87.638540   (41.75607825280598, -87.63853957634103)  \n",
       "1  41.764008 -87.722499  (41.764007749308014, -87.72249910770661)  \n",
       "2  41.925010 -87.687705   (41.92500993476519, -87.68770475222249)  \n",
       "3  41.692263 -87.642523   (41.692263123425136, -87.6425226876268)  \n",
       "4  41.867286 -87.630581  (41.867286165270755, -87.63058096773683)  "
      ]
     },
     "execution_count": 5,
     "metadata": {},
     "output_type": "execute_result"
    }
   ],
   "source": [
    "pothole_data.head()"
   ]
  },
  {
   "cell_type": "code",
   "execution_count": 6,
   "metadata": {},
   "outputs": [
    {
     "data": {
      "text/plain": [
       "CREATION DATE                          object\n",
       "STATUS                                 object\n",
       "COMPLETION DATE                        object\n",
       "SERVICE REQUEST NUMBER                 object\n",
       "TYPE OF SERVICE REQUEST                object\n",
       "CURRENT ACTIVITY                       object\n",
       "MOST RECENT ACTION                     object\n",
       "NUMBER OF POTHOLES FILLED ON BLOCK    float64\n",
       "STREET ADDRESS                         object\n",
       "ZIP                                   float64\n",
       "X COORDINATE                          float64\n",
       "Y COORDINATE                          float64\n",
       "Ward                                  float64\n",
       "Police District                       float64\n",
       "Community Area                        float64\n",
       "SSA                                   float64\n",
       "LATITUDE                              float64\n",
       "LONGITUDE                             float64\n",
       "LOCATION                               object\n",
       "dtype: object"
      ]
     },
     "execution_count": 6,
     "metadata": {},
     "output_type": "execute_result"
    }
   ],
   "source": [
    "pothole_data.dtypes"
   ]
  },
  {
   "cell_type": "markdown",
   "metadata": {},
   "source": [
    "Data type 'object' in pandas is 'str' in python <br>\n",
    "Read more here: http://pbpython.com/pandas_dtypes.html <br>\n",
    "How does pandas infer data types: https://rushter.com/blog/pandas-data-type-inference/"
   ]
  },
  {
   "cell_type": "markdown",
   "metadata": {},
   "source": [
    "### (1) Data Type conversion\n",
    "<b> Why do you need it? <br> </b>\n",
    "    To be able to make future manipulations easier"
   ]
  },
  {
   "cell_type": "markdown",
   "metadata": {},
   "source": [
    "CREATION DATE                :          Date <br>\n",
    "STATUS                       :          String<br>\n",
    "COMPLETION DATE              :          Date <br>\n",
    "SERVICE REQUEST NUMBER       :          Int? <br>\n",
    "TYPE OF SERVICE REQUEST      :          String  <br>\n",
    "CURRENT ACTIVITY             :          ?  <br>\n",
    "MOST RECENT ACTION           :          ?  <br>\n",
    "NUMBER OF POTHOLES FILLED ON BLOCK :    Int? <br>\n",
    "STREET ADDRESS               :          ?  <br>\n",
    "ZIP                          :         Int  <br>\n",
    "X COORDINATE                 :         Int  <br>\n",
    "Y COORDINATE                 :         Int <br>\n",
    "Ward                         :         ? <br>\n",
    "Police District              :         ?  <br>\n",
    "Community Area               :         float64  <br>\n",
    "SSA                          :         float64  <br>\n",
    "LATITUDE                     :         float64  <br>\n",
    "LONGITUDE                    :         float64  <br>\n",
    "LOCATION                     :         ?  <br>"
   ]
  },
  {
   "cell_type": "code",
   "execution_count": 7,
   "metadata": {},
   "outputs": [],
   "source": [
    "# String to date type\n",
    "a = datetime.strptime('2012-02-10' , '%Y-%m-%d')\n",
    "b = datetime.strptime('2012/01/02','%Y/%m/%d')\n",
    "c= datetime.strptime('12/01/02','%y/%m/%d')\n",
    "\n",
    "# Read more here : https://docs.python.org/2/library/datetime.html "
   ]
  },
  {
   "cell_type": "code",
   "execution_count": 8,
   "metadata": {},
   "outputs": [
    {
     "data": {
      "text/plain": [
       "datetime.datetime(2012, 2, 10, 0, 0)"
      ]
     },
     "execution_count": 8,
     "metadata": {},
     "output_type": "execute_result"
    }
   ],
   "source": [
    "datetime.strptime('2012-02-10' , '%Y-%m-%d')"
   ]
  },
  {
   "cell_type": "code",
   "execution_count": 9,
   "metadata": {},
   "outputs": [],
   "source": [
    "# Converting completion date from object to datetime object\n",
    "# library used: from datetime import datetime\n",
    "cleanedCompletionDate = []\n",
    "for date in pothole_data['COMPLETION DATE']:\n",
    "    date = str(date)\n",
    "    if date != 'nan' :\n",
    "        cleanedCompletionDate.append(datetime.strptime(date,'%m/%d/%Y'))\n",
    "    else:\n",
    "        cleanedCompletionDate.append(None)\n",
    "        \n",
    "pothole_data.insert(2,'Clean_Completion_Date',cleanedCompletionDate)\n",
    "\n",
    "# Converting creation date from object to datetime object\n",
    "cleanedCreationDate = []\n",
    "for date in pothole_data['CREATION DATE']:\n",
    "    if date != 'nan':\n",
    "        cleanedCreationDate.append(datetime.strptime(date, '%m/%d/%Y'))\n",
    "    else:\n",
    "        cleanedCreationDate.append(None)\n",
    "        \n",
    "pothole_data.insert(1,'Clean_Creation_Date',cleanedCreationDate)\n",
    "\n",
    "del pothole_data['COMPLETION DATE']\n",
    "del pothole_data['CREATION DATE']"
   ]
  },
  {
   "cell_type": "markdown",
   "metadata": {},
   "source": [
    "Try avoiding for loops as much as you can, as it has a high processing time."
   ]
  },
  {
   "cell_type": "code",
   "execution_count": 10,
   "metadata": {},
   "outputs": [],
   "source": [
    "pothole_data.insert(8,'Number_of_potholes_filled',\n",
    "                    pd.to_numeric(pothole_data['NUMBER OF POTHOLES FILLED ON BLOCK'],downcast='integer', errors= 'ignore'))\n",
    "\n",
    "pothole_data['Ward'] = pd.to_numeric(pothole_data['Ward'],downcast='integer', errors= 'ignore')\n",
    "\n",
    "pothole_data.insert(10,'Zip',\n",
    "                    pd.to_numeric(pothole_data['ZIP'],downcast='integer', errors = 'ignore'))\n",
    "pothole_data.insert(11,'X_coordinate',\n",
    "                    pd.to_numeric(pothole_data['X COORDINATE'], errors = 'ignore'))\n",
    "pothole_data.insert(12,'Y_coordinate',\n",
    "                    pd.to_numeric(pothole_data['Y COORDINATE'], errors = 'ignore'))\n",
    "\n",
    "del pothole_data['Y COORDINATE'],pothole_data['X COORDINATE'],pothole_data['ZIP']\n",
    "del pothole_data['NUMBER OF POTHOLES FILLED ON BLOCK']"
   ]
  },
  {
   "cell_type": "code",
   "execution_count": 11,
   "metadata": {},
   "outputs": [
    {
     "data": {
      "text/plain": [
       "Clean_Creation_Date          datetime64[ns]\n",
       "STATUS                               object\n",
       "Clean_Completion_Date        datetime64[ns]\n",
       "SERVICE REQUEST NUMBER               object\n",
       "TYPE OF SERVICE REQUEST              object\n",
       "CURRENT ACTIVITY                     object\n",
       "MOST RECENT ACTION                   object\n",
       "Number_of_potholes_filled           float64\n",
       "STREET ADDRESS                       object\n",
       "Zip                                 float64\n",
       "X_coordinate                        float64\n",
       "Y_coordinate                        float64\n",
       "Ward                                float64\n",
       "Police District                     float64\n",
       "Community Area                      float64\n",
       "SSA                                 float64\n",
       "LATITUDE                            float64\n",
       "LONGITUDE                           float64\n",
       "LOCATION                             object\n",
       "dtype: object"
      ]
     },
     "execution_count": 11,
     "metadata": {},
     "output_type": "execute_result"
    }
   ],
   "source": [
    "pothole_data.dtypes"
   ]
  },
  {
   "cell_type": "markdown",
   "metadata": {},
   "source": [
    "As you can see above even for variables like Number_of_potholes_filled, Ward and Zip, the data type is float64. The reason behind is the presence of NaN value. Datatype of NaN is float64 and thus every element gets converted to or downcasted to the smallest numerical dtype. Read more: https://pandas.pydata.org/pandas-docs/stable/reference/api/pandas.to_numeric.html"
   ]
  },
  {
   "cell_type": "code",
   "execution_count": 12,
   "metadata": {},
   "outputs": [
    {
     "data": {
      "text/plain": [
       "float"
      ]
     },
     "execution_count": 12,
     "metadata": {},
     "output_type": "execute_result"
    }
   ],
   "source": [
    "type(np.NaN)"
   ]
  },
  {
   "cell_type": "markdown",
   "metadata": {},
   "source": [
    "### (2) Data Filteration"
   ]
  },
  {
   "cell_type": "code",
   "execution_count": 13,
   "metadata": {},
   "outputs": [
    {
     "data": {
      "text/html": [
       "<div>\n",
       "<style scoped>\n",
       "    .dataframe tbody tr th:only-of-type {\n",
       "        vertical-align: middle;\n",
       "    }\n",
       "\n",
       "    .dataframe tbody tr th {\n",
       "        vertical-align: top;\n",
       "    }\n",
       "\n",
       "    .dataframe thead th {\n",
       "        text-align: right;\n",
       "    }\n",
       "</style>\n",
       "<table border=\"1\" class=\"dataframe\">\n",
       "  <thead>\n",
       "    <tr style=\"text-align: right;\">\n",
       "      <th></th>\n",
       "      <th>Clean_Creation_Date</th>\n",
       "      <th>STATUS</th>\n",
       "      <th>Clean_Completion_Date</th>\n",
       "      <th>SERVICE REQUEST NUMBER</th>\n",
       "      <th>TYPE OF SERVICE REQUEST</th>\n",
       "      <th>CURRENT ACTIVITY</th>\n",
       "      <th>MOST RECENT ACTION</th>\n",
       "      <th>Number_of_potholes_filled</th>\n",
       "      <th>STREET ADDRESS</th>\n",
       "      <th>Zip</th>\n",
       "      <th>X_coordinate</th>\n",
       "      <th>Y_coordinate</th>\n",
       "      <th>Ward</th>\n",
       "      <th>Police District</th>\n",
       "      <th>Community Area</th>\n",
       "      <th>SSA</th>\n",
       "      <th>LATITUDE</th>\n",
       "      <th>LONGITUDE</th>\n",
       "      <th>LOCATION</th>\n",
       "    </tr>\n",
       "  </thead>\n",
       "  <tbody>\n",
       "    <tr>\n",
       "      <th>315158</th>\n",
       "      <td>2015-01-02</td>\n",
       "      <td>Completed</td>\n",
       "      <td>2015-01-02</td>\n",
       "      <td>15-00007436</td>\n",
       "      <td>Pothole in Street</td>\n",
       "      <td>Final Outcome</td>\n",
       "      <td>Pothole Patched</td>\n",
       "      <td>56.0</td>\n",
       "      <td>5600 S CENTRAL PARK AVE</td>\n",
       "      <td>60629.0</td>\n",
       "      <td>1.153271e+06</td>\n",
       "      <td>1.867238e+06</td>\n",
       "      <td>14.0</td>\n",
       "      <td>8.0</td>\n",
       "      <td>62.0</td>\n",
       "      <td>NaN</td>\n",
       "      <td>41.791495</td>\n",
       "      <td>-87.713669</td>\n",
       "      <td>(41.79149546639395, -87.71366937020319)</td>\n",
       "    </tr>\n",
       "    <tr>\n",
       "      <th>315159</th>\n",
       "      <td>2015-01-02</td>\n",
       "      <td>Completed</td>\n",
       "      <td>2015-01-02</td>\n",
       "      <td>15-00007445</td>\n",
       "      <td>Pothole in Street</td>\n",
       "      <td>Final Outcome</td>\n",
       "      <td>Pothole Patched</td>\n",
       "      <td>56.0</td>\n",
       "      <td>5700 S CENTRAL PARK AVE</td>\n",
       "      <td>60629.0</td>\n",
       "      <td>1.153290e+06</td>\n",
       "      <td>1.866575e+06</td>\n",
       "      <td>14.0</td>\n",
       "      <td>8.0</td>\n",
       "      <td>62.0</td>\n",
       "      <td>NaN</td>\n",
       "      <td>41.789674</td>\n",
       "      <td>-87.713618</td>\n",
       "      <td>(41.78967426068723, -87.7136179657176)</td>\n",
       "    </tr>\n",
       "    <tr>\n",
       "      <th>315160</th>\n",
       "      <td>2015-01-02</td>\n",
       "      <td>Completed</td>\n",
       "      <td>2015-01-02</td>\n",
       "      <td>15-00007450</td>\n",
       "      <td>Pothole in Street</td>\n",
       "      <td>Final Outcome</td>\n",
       "      <td>Pothole Patched</td>\n",
       "      <td>57.0</td>\n",
       "      <td>5800 S CENTRAL PARK AVE</td>\n",
       "      <td>60629.0</td>\n",
       "      <td>1.153309e+06</td>\n",
       "      <td>1.865914e+06</td>\n",
       "      <td>14.0</td>\n",
       "      <td>8.0</td>\n",
       "      <td>62.0</td>\n",
       "      <td>NaN</td>\n",
       "      <td>41.787861</td>\n",
       "      <td>-87.713567</td>\n",
       "      <td>(41.787860913166725, -87.71356735724865)</td>\n",
       "    </tr>\n",
       "    <tr>\n",
       "      <th>315161</th>\n",
       "      <td>2015-01-02</td>\n",
       "      <td>Completed</td>\n",
       "      <td>2015-01-02</td>\n",
       "      <td>15-00007497</td>\n",
       "      <td>Pothole in Street</td>\n",
       "      <td>Final Outcome</td>\n",
       "      <td>Pothole Patched</td>\n",
       "      <td>12.0</td>\n",
       "      <td>726 E 51ST ST</td>\n",
       "      <td>60615.0</td>\n",
       "      <td>1.182057e+06</td>\n",
       "      <td>1.871356e+06</td>\n",
       "      <td>4.0</td>\n",
       "      <td>2.0</td>\n",
       "      <td>38.0</td>\n",
       "      <td>47.0</td>\n",
       "      <td>41.802335</td>\n",
       "      <td>-87.607732</td>\n",
       "      <td>(41.80233511022382, -87.60773176728789)</td>\n",
       "    </tr>\n",
       "    <tr>\n",
       "      <th>315162</th>\n",
       "      <td>2015-01-01</td>\n",
       "      <td>Completed</td>\n",
       "      <td>2015-01-02</td>\n",
       "      <td>15-00002779</td>\n",
       "      <td>Pothole in Street</td>\n",
       "      <td>Final Outcome</td>\n",
       "      <td>Pothole Patched</td>\n",
       "      <td>5.0</td>\n",
       "      <td>3001 W 47TH ST</td>\n",
       "      <td>60632.0</td>\n",
       "      <td>1.157151e+06</td>\n",
       "      <td>1.873336e+06</td>\n",
       "      <td>14.0</td>\n",
       "      <td>9.0</td>\n",
       "      <td>58.0</td>\n",
       "      <td>39.0</td>\n",
       "      <td>41.808090</td>\n",
       "      <td>-87.699150</td>\n",
       "      <td>(41.80808974768087, -87.69915012687692)</td>\n",
       "    </tr>\n",
       "  </tbody>\n",
       "</table>\n",
       "</div>"
      ],
      "text/plain": [
       "       Clean_Creation_Date     STATUS Clean_Completion_Date  \\\n",
       "315158          2015-01-02  Completed            2015-01-02   \n",
       "315159          2015-01-02  Completed            2015-01-02   \n",
       "315160          2015-01-02  Completed            2015-01-02   \n",
       "315161          2015-01-02  Completed            2015-01-02   \n",
       "315162          2015-01-01  Completed            2015-01-02   \n",
       "\n",
       "       SERVICE REQUEST NUMBER TYPE OF SERVICE REQUEST CURRENT ACTIVITY  \\\n",
       "315158            15-00007436       Pothole in Street    Final Outcome   \n",
       "315159            15-00007445       Pothole in Street    Final Outcome   \n",
       "315160            15-00007450       Pothole in Street    Final Outcome   \n",
       "315161            15-00007497       Pothole in Street    Final Outcome   \n",
       "315162            15-00002779       Pothole in Street    Final Outcome   \n",
       "\n",
       "       MOST RECENT ACTION  Number_of_potholes_filled           STREET ADDRESS  \\\n",
       "315158    Pothole Patched                       56.0  5600 S CENTRAL PARK AVE   \n",
       "315159    Pothole Patched                       56.0  5700 S CENTRAL PARK AVE   \n",
       "315160    Pothole Patched                       57.0  5800 S CENTRAL PARK AVE   \n",
       "315161    Pothole Patched                       12.0            726 E 51ST ST   \n",
       "315162    Pothole Patched                        5.0           3001 W 47TH ST   \n",
       "\n",
       "            Zip  X_coordinate  Y_coordinate  Ward  Police District  \\\n",
       "315158  60629.0  1.153271e+06  1.867238e+06  14.0              8.0   \n",
       "315159  60629.0  1.153290e+06  1.866575e+06  14.0              8.0   \n",
       "315160  60629.0  1.153309e+06  1.865914e+06  14.0              8.0   \n",
       "315161  60615.0  1.182057e+06  1.871356e+06   4.0              2.0   \n",
       "315162  60632.0  1.157151e+06  1.873336e+06  14.0              9.0   \n",
       "\n",
       "        Community Area   SSA   LATITUDE  LONGITUDE  \\\n",
       "315158            62.0   NaN  41.791495 -87.713669   \n",
       "315159            62.0   NaN  41.789674 -87.713618   \n",
       "315160            62.0   NaN  41.787861 -87.713567   \n",
       "315161            38.0  47.0  41.802335 -87.607732   \n",
       "315162            58.0  39.0  41.808090 -87.699150   \n",
       "\n",
       "                                        LOCATION  \n",
       "315158   (41.79149546639395, -87.71366937020319)  \n",
       "315159    (41.78967426068723, -87.7136179657176)  \n",
       "315160  (41.787860913166725, -87.71356735724865)  \n",
       "315161   (41.80233511022382, -87.60773176728789)  \n",
       "315162   (41.80808974768087, -87.69915012687692)  "
      ]
     },
     "execution_count": 13,
     "metadata": {},
     "output_type": "execute_result"
    }
   ],
   "source": [
    "pothole_data1 = pothole_data[(pothole_data['Clean_Creation_Date'] >= datetime(2015, 1, 1)) & \n",
    "                             (pothole_data['Clean_Creation_Date'] <= datetime(2018, 1, 1))]\n",
    "pothole_data1.head()"
   ]
  },
  {
   "cell_type": "code",
   "execution_count": 14,
   "metadata": {},
   "outputs": [],
   "source": [
    "pothole_data_grped = pothole_data1.groupby('Ward')\n",
    "pothole_ward_level = pd.DataFrame()\n",
    "\n",
    "pothole_ward_level['Number_of_potholes_filled'] = pothole_data_grped['Number_of_potholes_filled'].mean()"
   ]
  },
  {
   "cell_type": "code",
   "execution_count": 15,
   "metadata": {},
   "outputs": [
    {
     "data": {
      "text/html": [
       "<div>\n",
       "<style scoped>\n",
       "    .dataframe tbody tr th:only-of-type {\n",
       "        vertical-align: middle;\n",
       "    }\n",
       "\n",
       "    .dataframe tbody tr th {\n",
       "        vertical-align: top;\n",
       "    }\n",
       "\n",
       "    .dataframe thead th {\n",
       "        text-align: right;\n",
       "    }\n",
       "</style>\n",
       "<table border=\"1\" class=\"dataframe\">\n",
       "  <thead>\n",
       "    <tr style=\"text-align: right;\">\n",
       "      <th></th>\n",
       "      <th>Number_of_potholes_filled</th>\n",
       "    </tr>\n",
       "    <tr>\n",
       "      <th>Ward</th>\n",
       "      <th></th>\n",
       "    </tr>\n",
       "  </thead>\n",
       "  <tbody>\n",
       "    <tr>\n",
       "      <th>0.0</th>\n",
       "      <td>11.784038</td>\n",
       "    </tr>\n",
       "    <tr>\n",
       "      <th>1.0</th>\n",
       "      <td>8.400729</td>\n",
       "    </tr>\n",
       "    <tr>\n",
       "      <th>2.0</th>\n",
       "      <td>7.768445</td>\n",
       "    </tr>\n",
       "    <tr>\n",
       "      <th>3.0</th>\n",
       "      <td>10.582424</td>\n",
       "    </tr>\n",
       "    <tr>\n",
       "      <th>4.0</th>\n",
       "      <td>11.396092</td>\n",
       "    </tr>\n",
       "  </tbody>\n",
       "</table>\n",
       "</div>"
      ],
      "text/plain": [
       "      Number_of_potholes_filled\n",
       "Ward                           \n",
       "0.0                   11.784038\n",
       "1.0                    8.400729\n",
       "2.0                    7.768445\n",
       "3.0                   10.582424\n",
       "4.0                   11.396092"
      ]
     },
     "execution_count": 15,
     "metadata": {},
     "output_type": "execute_result"
    }
   ],
   "source": [
    "pothole_ward_level.head()"
   ]
  },
  {
   "cell_type": "markdown",
   "metadata": {},
   "source": [
    "### (3) Dealing with missing values \n",
    "There is no right way! <br>\n",
    "Here is a really interesting discussion:  https://www.kaggle.com/getting-started/30238"
   ]
  },
  {
   "cell_type": "markdown",
   "metadata": {},
   "source": [
    "Checking number of missing values in all the columns"
   ]
  },
  {
   "cell_type": "code",
   "execution_count": 16,
   "metadata": {},
   "outputs": [
    {
     "data": {
      "text/plain": [
       "Clean_Creation_Date               0\n",
       "STATUS                            0\n",
       "Clean_Completion_Date             0\n",
       "SERVICE REQUEST NUMBER            0\n",
       "TYPE OF SERVICE REQUEST           0\n",
       "CURRENT ACTIVITY              45236\n",
       "MOST RECENT ACTION            45294\n",
       "Number_of_potholes_filled     45045\n",
       "STREET ADDRESS                    0\n",
       "Zip                             545\n",
       "X_coordinate                    150\n",
       "Y_coordinate                    150\n",
       "Ward                            118\n",
       "Police District                 119\n",
       "Community Area                  119\n",
       "SSA                          146392\n",
       "LATITUDE                        324\n",
       "LONGITUDE                       324\n",
       "LOCATION                        324\n",
       "dtype: int64"
      ]
     },
     "execution_count": 16,
     "metadata": {},
     "output_type": "execute_result"
    }
   ],
   "source": [
    "pothole_data1.isna().sum()"
   ]
  },
  {
   "cell_type": "code",
   "execution_count": 18,
   "metadata": {},
   "outputs": [
    {
     "data": {
      "text/plain": [
       "array(['Final Outcome', nan, 'Generate Workorder', 'Dispatch Inspector',\n",
       "       'Complaint Crew', 'Follow-on SR Update', 'Dispatch Complaint Crew',\n",
       "       'Work Assigned', 'FVI - Outcome', 'Dispatch Clam'], dtype=object)"
      ]
     },
     "execution_count": 18,
     "metadata": {},
     "output_type": "execute_result"
    }
   ],
   "source": [
    "pothole_data1['CURRENT ACTIVITY'].unique()"
   ]
  },
  {
   "cell_type": "code",
   "execution_count": 44,
   "metadata": {},
   "outputs": [
    {
     "data": {
      "text/plain": [
       "<matplotlib.axes._subplots.AxesSubplot at 0x16e87a84e48>"
      ]
     },
     "execution_count": 44,
     "metadata": {},
     "output_type": "execute_result"
    },
    {
     "data": {
      "image/png": "[encoded data removed]",
      "text/plain": [
       "<Figure size 432x288 with 1 Axes>"
      ]
     },
     "metadata": {},
     "output_type": "display_data"
    }
   ],
   "source": [
    "sns.heatmap(pothole_data1.isnull(), cbar=False)\n",
    "\n",
    "# msno can also be used for the same purpose\n",
    "# import missingno as msno\n",
    "# msno.matrix(data)"
   ]
  },
  {
   "cell_type": "markdown",
   "metadata": {},
   "source": [
    "<b> Hypothesis: <br> </b>\n",
    "Number of potholes filled is NA when 'MOST RECENT ACTION' or 'CURRENT ACTIVITY' is NA"
   ]
  },
  {
   "cell_type": "code",
   "execution_count": 20,
   "metadata": {},
   "outputs": [
    {
     "data": {
      "text/plain": [
       "99.22627995401892"
      ]
     },
     "execution_count": 20,
     "metadata": {},
     "output_type": "execute_result"
    }
   ],
   "source": [
    "(pothole_data1['Number_of_potholes_filled'][pothole_data1['CURRENT ACTIVITY'].isna() \\\n",
    "                                           ].isna().sum())*100/pothole_data1['CURRENT ACTIVITY'].isna().sum()"
   ]
  },
  {
   "cell_type": "code",
   "execution_count": 21,
   "metadata": {},
   "outputs": [
    {
     "data": {
      "text/plain": [
       "99.09921843952841"
      ]
     },
     "execution_count": 21,
     "metadata": {},
     "output_type": "execute_result"
    }
   ],
   "source": [
    "(pothole_data1['Number_of_potholes_filled'][pothole_data1['MOST RECENT ACTION'].isna() \\\n",
    "                                           ].isna().sum())*100/pothole_data1['MOST RECENT ACTION'].isna().sum()"
   ]
  },
  {
   "cell_type": "markdown",
   "metadata": {},
   "source": [
    "(1) We can at one level say that if the 'MOST RECENT ACTION' is NA the number of potholes filled will be zero. <br>\n",
    "(2) SSA has the highest number of NA values and if the varible isn't important for modeling it can be dropped. <br>\n",
    "(3) We can also drop enteries, where important variable for analysis like X,Y coordinates or Latitute of Longitude can't be imputed or substituted.One way of dealing with it is getting the right Latitude, Longitude from the X,Y coordinates or viceversa using google maps any other geospatial apps"
   ]
  },
  {
   "cell_type": "code",
   "execution_count": 22,
   "metadata": {},
   "outputs": [
    {
     "name": "stderr",
     "output_type": "stream",
     "text": [
      "C:\\Users\\Sanchayni\\Anaconda3\\lib\\site-packages\\pandas\\core\\indexing.py:537: SettingWithCopyWarning: \n",
      "A value is trying to be set on a copy of a slice from a DataFrame.\n",
      "Try using .loc[row_indexer,col_indexer] = value instead\n",
      "\n",
      "See the caveats in the documentation: http://pandas.pydata.org/pandas-docs/stable/indexing.html#indexing-view-versus-copy\n",
      "  self.obj[item] = s\n"
     ]
    }
   ],
   "source": [
    "#(1)\n",
    "pothole_data1.loc[pothole_data1['Number_of_potholes_filled'].isna() &  pothole_data1['MOST RECENT ACTION'].isna() \\\n",
    "                  ,'Number_of_potholes_filled'] = 0 "
   ]
  },
  {
   "cell_type": "markdown",
   "metadata": {},
   "source": [
    "Read more on how loc and iloc works here: https://www.shanelynn.ie/select-pandas-dataframe-rows-and-columns-using-iloc-loc-and-ix/"
   ]
  },
  {
   "cell_type": "code",
   "execution_count": 23,
   "metadata": {},
   "outputs": [],
   "source": [
    "#(2)\n",
    "pothole_data1 = pothole_data1.drop(['SSA'],axis = 1)"
   ]
  },
  {
   "cell_type": "code",
   "execution_count": 24,
   "metadata": {},
   "outputs": [],
   "source": [
    "#(3)\n",
    "pothole_data1 = pothole_data1[pothole_data1['LATITUDE'].isna() == False]"
   ]
  },
  {
   "cell_type": "code",
   "execution_count": 25,
   "metadata": {},
   "outputs": [
    {
     "data": {
      "text/plain": [
       "Clean_Creation_Date              0\n",
       "STATUS                           0\n",
       "Clean_Completion_Date            0\n",
       "SERVICE REQUEST NUMBER           0\n",
       "TYPE OF SERVICE REQUEST          0\n",
       "CURRENT ACTIVITY             45208\n",
       "MOST RECENT ACTION           45265\n",
       "Number_of_potholes_filled      159\n",
       "STREET ADDRESS                   0\n",
       "Zip                            545\n",
       "X_coordinate                   114\n",
       "Y_coordinate                   114\n",
       "Ward                            83\n",
       "Police District                 83\n",
       "Community Area                  83\n",
       "LATITUDE                         0\n",
       "LONGITUDE                        0\n",
       "LOCATION                         0\n",
       "dtype: int64"
      ]
     },
     "execution_count": 25,
     "metadata": {},
     "output_type": "execute_result"
    }
   ],
   "source": [
    "pothole_data1.isna().sum()"
   ]
  },
  {
   "cell_type": "markdown",
   "metadata": {},
   "source": [
    "### (4) Data Elimination Vs Imputation\n",
    "More on Imputation: https://medium.com/ibm-data-science-experience/missing-data-conundrum-exploration-and-imputation-techniques-9f40abe0fd87\n",
    "Types of imputations possible in python: https://github.com/iskandr/fancyimpute"
   ]
  },
  {
   "cell_type": "code",
   "execution_count": 26,
   "metadata": {},
   "outputs": [],
   "source": [
    "Housepricing = pd.read_csv('http://math.iit.edu/~rellis/teaching/497All/497_RR_data/MELBOURNE_HOUSE_PRICES_LESS.csv')"
   ]
  },
  {
   "cell_type": "code",
   "execution_count": 27,
   "metadata": {},
   "outputs": [
    {
     "data": {
      "text/html": [
       "<div>\n",
       "<style scoped>\n",
       "    .dataframe tbody tr th:only-of-type {\n",
       "        vertical-align: middle;\n",
       "    }\n",
       "\n",
       "    .dataframe tbody tr th {\n",
       "        vertical-align: top;\n",
       "    }\n",
       "\n",
       "    .dataframe thead th {\n",
       "        text-align: right;\n",
       "    }\n",
       "</style>\n",
       "<table border=\"1\" class=\"dataframe\">\n",
       "  <thead>\n",
       "    <tr style=\"text-align: right;\">\n",
       "      <th></th>\n",
       "      <th>Suburb</th>\n",
       "      <th>Address</th>\n",
       "      <th>Rooms</th>\n",
       "      <th>Type</th>\n",
       "      <th>Price</th>\n",
       "      <th>Method</th>\n",
       "      <th>SellerG</th>\n",
       "      <th>Date</th>\n",
       "      <th>Postcode</th>\n",
       "      <th>Regionname</th>\n",
       "      <th>Propertycount</th>\n",
       "      <th>Distance</th>\n",
       "      <th>CouncilArea</th>\n",
       "    </tr>\n",
       "  </thead>\n",
       "  <tbody>\n",
       "    <tr>\n",
       "      <th>0</th>\n",
       "      <td>Abbotsford</td>\n",
       "      <td>49 Lithgow St</td>\n",
       "      <td>3</td>\n",
       "      <td>h</td>\n",
       "      <td>1490000.0</td>\n",
       "      <td>S</td>\n",
       "      <td>Jellis</td>\n",
       "      <td>01-04-17</td>\n",
       "      <td>3067.0</td>\n",
       "      <td>Northern Metropolitan</td>\n",
       "      <td>4019.0</td>\n",
       "      <td>3.0</td>\n",
       "      <td>Yarra City Council</td>\n",
       "    </tr>\n",
       "    <tr>\n",
       "      <th>1</th>\n",
       "      <td>Abbotsford</td>\n",
       "      <td>59A Turner St</td>\n",
       "      <td>3</td>\n",
       "      <td>h</td>\n",
       "      <td>1220000.0</td>\n",
       "      <td>S</td>\n",
       "      <td>Marshall</td>\n",
       "      <td>01-04-17</td>\n",
       "      <td>3067.0</td>\n",
       "      <td>Northern Metropolitan</td>\n",
       "      <td>4019.0</td>\n",
       "      <td>3.0</td>\n",
       "      <td>Yarra City Council</td>\n",
       "    </tr>\n",
       "    <tr>\n",
       "      <th>2</th>\n",
       "      <td>Abbotsford</td>\n",
       "      <td>119B Yarra St</td>\n",
       "      <td>3</td>\n",
       "      <td>h</td>\n",
       "      <td>1420000.0</td>\n",
       "      <td>S</td>\n",
       "      <td>Nelson</td>\n",
       "      <td>01-04-17</td>\n",
       "      <td>3067.0</td>\n",
       "      <td>Northern Metropolitan</td>\n",
       "      <td>4019.0</td>\n",
       "      <td>3.0</td>\n",
       "      <td>Yarra City Council</td>\n",
       "    </tr>\n",
       "    <tr>\n",
       "      <th>3</th>\n",
       "      <td>Aberfeldie</td>\n",
       "      <td>68 Vida St</td>\n",
       "      <td>3</td>\n",
       "      <td>h</td>\n",
       "      <td>1515000.0</td>\n",
       "      <td>S</td>\n",
       "      <td>Barry</td>\n",
       "      <td>01-04-17</td>\n",
       "      <td>3040.0</td>\n",
       "      <td>Western Metropolitan</td>\n",
       "      <td>1543.0</td>\n",
       "      <td>7.5</td>\n",
       "      <td>Moonee Valley City Council</td>\n",
       "    </tr>\n",
       "    <tr>\n",
       "      <th>4</th>\n",
       "      <td>Airport West</td>\n",
       "      <td>92 Clydesdale Rd</td>\n",
       "      <td>2</td>\n",
       "      <td>h</td>\n",
       "      <td>670000.0</td>\n",
       "      <td>S</td>\n",
       "      <td>Nelson</td>\n",
       "      <td>01-04-17</td>\n",
       "      <td>3042.0</td>\n",
       "      <td>Western Metropolitan</td>\n",
       "      <td>3464.0</td>\n",
       "      <td>10.4</td>\n",
       "      <td>Moonee Valley City Council</td>\n",
       "    </tr>\n",
       "  </tbody>\n",
       "</table>\n",
       "</div>"
      ],
      "text/plain": [
       "         Suburb           Address  Rooms Type      Price Method   SellerG  \\\n",
       "0    Abbotsford     49 Lithgow St      3    h  1490000.0      S    Jellis   \n",
       "1    Abbotsford     59A Turner St      3    h  1220000.0      S  Marshall   \n",
       "2    Abbotsford     119B Yarra St      3    h  1420000.0      S    Nelson   \n",
       "3    Aberfeldie        68 Vida St      3    h  1515000.0      S     Barry   \n",
       "4  Airport West  92 Clydesdale Rd      2    h   670000.0      S    Nelson   \n",
       "\n",
       "       Date  Postcode             Regionname  Propertycount  Distance  \\\n",
       "0  01-04-17    3067.0  Northern Metropolitan         4019.0       3.0   \n",
       "1  01-04-17    3067.0  Northern Metropolitan         4019.0       3.0   \n",
       "2  01-04-17    3067.0  Northern Metropolitan         4019.0       3.0   \n",
       "3  01-04-17    3040.0   Western Metropolitan         1543.0       7.5   \n",
       "4  01-04-17    3042.0   Western Metropolitan         3464.0      10.4   \n",
       "\n",
       "                  CouncilArea  \n",
       "0          Yarra City Council  \n",
       "1          Yarra City Council  \n",
       "2          Yarra City Council  \n",
       "3  Moonee Valley City Council  \n",
       "4  Moonee Valley City Council  "
      ]
     },
     "execution_count": 27,
     "metadata": {},
     "output_type": "execute_result"
    }
   ],
   "source": [
    "Housepricing.head()"
   ]
  },
  {
   "cell_type": "code",
   "execution_count": 28,
   "metadata": {},
   "outputs": [
    {
     "data": {
      "text/plain": [
       "Suburb            0.023145\n",
       "Address           0.000000\n",
       "Rooms             0.000000\n",
       "Type              0.231448\n",
       "Price            23.214234\n",
       "Method            0.000000\n",
       "SellerG           0.000000\n",
       "Date              0.000000\n",
       "Postcode          0.124403\n",
       "Regionname        0.000000\n",
       "Propertycount     0.115724\n",
       "Distance          0.092579\n",
       "CouncilArea       0.000000\n",
       "dtype: float64"
      ]
     },
     "execution_count": 28,
     "metadata": {},
     "output_type": "execute_result"
    }
   ],
   "source": [
    "Housepricing.isna().sum()*100/len(Housepricing)"
   ]
  },
  {
   "cell_type": "markdown",
   "metadata": {},
   "source": [
    "<b> Imputing dataframe by mean, median or mode </b> <br> \n",
    "PS: I won't recommend imputing by using mean, median or mode if you have a lot of NA values but this method makes sense when you have sparse NA presence as other Imputation methods (KNN, Mice, SoftImpute, IterativeImputer or BiScaler ) has high computation time."
   ]
  },
  {
   "cell_type": "markdown",
   "metadata": {},
   "source": [
    "Documentation for fancyimpute: https://github.com/iskandr/fancyimpute"
   ]
  },
  {
   "cell_type": "code",
   "execution_count": 33,
   "metadata": {},
   "outputs": [
    {
     "data": {
      "text/plain": [
       "0"
      ]
     },
     "execution_count": 33,
     "metadata": {},
     "output_type": "execute_result"
    }
   ],
   "source": [
    "Housepricing['Price'].fillna(Housepricing['Price'].mean(),inplace= True)\n",
    "# What inplace does is rather than returning a new dataframe it will replace the existing dataframe \n",
    "Housepricing['Price'].isna().sum()"
   ]
  },
  {
   "cell_type": "code",
   "execution_count": 34,
   "metadata": {},
   "outputs": [],
   "source": [
    "#Imputing rest with mean for now\n",
    "Housepricing['Distance'].fillna(Housepricing['Distance'].mean(),inplace= True)\n",
    "Housepricing['Propertycount'].fillna(Housepricing['Propertycount'].mean(),inplace= True)"
   ]
  },
  {
   "cell_type": "code",
   "execution_count": 35,
   "metadata": {},
   "outputs": [
    {
     "data": {
      "text/plain": [
       "Reservoir         701\n",
       "Mount Waverley    479\n",
       "Richmond          467\n",
       "Glen Waverley     455\n",
       "Bentleigh East    452\n",
       "Name: Suburb, dtype: int64"
      ]
     },
     "execution_count": 35,
     "metadata": {},
     "output_type": "execute_result"
    }
   ],
   "source": [
    "Housepricing['Suburb'].value_counts().head()"
   ]
  },
  {
   "cell_type": "code",
   "execution_count": 36,
   "metadata": {},
   "outputs": [],
   "source": [
    "Housepricing['Suburb'].fillna(Housepricing['Suburb'].mode(),inplace= True)"
   ]
  },
  {
   "cell_type": "markdown",
   "metadata": {},
   "source": [
    "For a categorical column you would fill the NA values using mode"
   ]
  },
  {
   "cell_type": "code",
   "execution_count": 37,
   "metadata": {},
   "outputs": [
    {
     "data": {
      "text/plain": [
       "0"
      ]
     },
     "execution_count": 37,
     "metadata": {},
     "output_type": "execute_result"
    }
   ],
   "source": [
    "# OR\n",
    "Housepricing['Suburb'].fillna('Reservoir',inplace= True)\n",
    "Housepricing['Suburb'].isna().sum()"
   ]
  },
  {
   "cell_type": "code",
   "execution_count": 38,
   "metadata": {},
   "outputs": [],
   "source": [
    "# Imputing rest of the catergorical values with mode\n",
    "Housepricing['Type'].value_counts().head()\n",
    "Housepricing['Type'].fillna('h',inplace= True)"
   ]
  },
  {
   "cell_type": "code",
   "execution_count": 39,
   "metadata": {},
   "outputs": [],
   "source": [
    "Housepricing['Postcode'].value_counts().head()\n",
    "Housepricing['Postcode'].fillna('3073',inplace= True)"
   ]
  },
  {
   "cell_type": "code",
   "execution_count": 40,
   "metadata": {},
   "outputs": [
    {
     "data": {
      "text/plain": [
       "Suburb           0\n",
       "Address          0\n",
       "Rooms            0\n",
       "Type             0\n",
       "Price            0\n",
       "Method           0\n",
       "SellerG          0\n",
       "Date             0\n",
       "Postcode         0\n",
       "Regionname       0\n",
       "Propertycount    0\n",
       "Distance         0\n",
       "CouncilArea      0\n",
       "dtype: int64"
      ]
     },
     "execution_count": 40,
     "metadata": {},
     "output_type": "execute_result"
    }
   ],
   "source": [
    "Housepricing.isna().sum()"
   ]
  },
  {
   "cell_type": "markdown",
   "metadata": {},
   "source": [
    "### (5) Normalization and standarization / Feature Scaling\n",
    "Read more: https://machinelearningmastery.com/normalize-standardize-time-series-data-python/"
   ]
  },
  {
   "cell_type": "markdown",
   "metadata": {},
   "source": [
    "<b> Why do you need it? <br> </b>\n",
    "It is used when the magnitute of the variable has an effect on your predictions. For example in Support Vector Machines, linear regression and even Principal Component Analysis."
   ]
  },
  {
   "cell_type": "code",
   "execution_count": 46,
   "metadata": {},
   "outputs": [
    {
     "data": {
      "text/plain": [
       "Suburb            object\n",
       "Address           object\n",
       "Rooms              int64\n",
       "Type              object\n",
       "Price            float64\n",
       "Method            object\n",
       "SellerG           object\n",
       "Date              object\n",
       "Postcode          object\n",
       "Regionname        object\n",
       "Propertycount    float64\n",
       "Distance         float64\n",
       "CouncilArea       object\n",
       "dtype: object"
      ]
     },
     "execution_count": 46,
     "metadata": {},
     "output_type": "execute_result"
    }
   ],
   "source": [
    "Housepricing.dtypes"
   ]
  },
  {
   "cell_type": "code",
   "execution_count": 47,
   "metadata": {},
   "outputs": [],
   "source": [
    "Housepricing_numeric = Housepricing[['Price','Propertycount','Distance']]"
   ]
  },
  {
   "cell_type": "markdown",
   "metadata": {},
   "source": [
    "<b> Normalization </b>"
   ]
  },
  {
   "cell_type": "code",
   "execution_count": 48,
   "metadata": {},
   "outputs": [],
   "source": [
    "from sklearn.preprocessing import MinMaxScaler\n",
    "scaler = MinMaxScaler(feature_range=(0, 1))"
   ]
  },
  {
   "cell_type": "code",
   "execution_count": 49,
   "metadata": {},
   "outputs": [
    {
     "data": {
      "text/plain": [
       "array([[0.18624766, 0.18416547, 0.04680187],\n",
       "       [0.15249756, 0.18416547, 0.04680187],\n",
       "       [0.17749764, 0.18416547, 0.04680187],\n",
       "       ...,\n",
       "       [0.0959349 , 1.        , 0.18720749],\n",
       "       [0.09749741, 1.        , 0.18720749],\n",
       "       [0.08349737, 1.        , 0.18720749]])"
      ]
     },
     "execution_count": 49,
     "metadata": {},
     "output_type": "execute_result"
    }
   ],
   "source": [
    "scaler.fit_transform(Housepricing_numeric)"
   ]
  },
  {
   "cell_type": "code",
   "execution_count": 50,
   "metadata": {},
   "outputs": [],
   "source": [
    "Housepricing_norm = pd.DataFrame(scaler.fit_transform(Housepricing_numeric), columns=['Price','Propertycount','Distance'] )"
   ]
  },
  {
   "cell_type": "markdown",
   "metadata": {},
   "source": [
    "<b> Standardization </b>"
   ]
  },
  {
   "cell_type": "code",
   "execution_count": 51,
   "metadata": {},
   "outputs": [],
   "source": [
    "from sklearn.preprocessing import StandardScaler\n",
    "scaler = StandardScaler()"
   ]
  },
  {
   "cell_type": "code",
   "execution_count": 52,
   "metadata": {},
   "outputs": [],
   "source": [
    "scaler.fit(Housepricing_numeric)\n",
    "Housepricing_std = pd.DataFrame(scaler.transform(Housepricing_numeric), columns=['Price','Propertycount','Distance'])"
   ]
  },
  {
   "cell_type": "markdown",
   "metadata": {},
   "source": [
    "### (6) Dummy Variables \n",
    "(for categorical variables) <br>\n",
    "<b> Why do we need it? </b> <br>\n",
    "Some ML models can't deal with categorical variables and requires all of it's independent variables to be numeric. If you have a categorical variable which cannot be directly translated into a numeric variable you can create dummy variables for that column."
   ]
  },
  {
   "cell_type": "markdown",
   "metadata": {},
   "source": [
    "We don't really need all the columns created after dummification. <br> Read why?: https://stattrek.com/multiple-regression/dummy-variables.aspx"
   ]
  },
  {
   "cell_type": "code",
   "execution_count": 53,
   "metadata": {},
   "outputs": [
    {
     "data": {
      "text/plain": [
       "array(['h', 't', 'u'], dtype=object)"
      ]
     },
     "execution_count": 53,
     "metadata": {},
     "output_type": "execute_result"
    }
   ],
   "source": [
    "# Lets try creating dummy variables for variable 'Type'\n",
    "Housepricing['Type'].unique()"
   ]
  },
  {
   "cell_type": "code",
   "execution_count": 54,
   "metadata": {},
   "outputs": [
    {
     "data": {
      "text/html": [
       "<div>\n",
       "<style scoped>\n",
       "    .dataframe tbody tr th:only-of-type {\n",
       "        vertical-align: middle;\n",
       "    }\n",
       "\n",
       "    .dataframe tbody tr th {\n",
       "        vertical-align: top;\n",
       "    }\n",
       "\n",
       "    .dataframe thead th {\n",
       "        text-align: right;\n",
       "    }\n",
       "</style>\n",
       "<table border=\"1\" class=\"dataframe\">\n",
       "  <thead>\n",
       "    <tr style=\"text-align: right;\">\n",
       "      <th></th>\n",
       "      <th>h</th>\n",
       "      <th>t</th>\n",
       "      <th>u</th>\n",
       "    </tr>\n",
       "  </thead>\n",
       "  <tbody>\n",
       "    <tr>\n",
       "      <th>0</th>\n",
       "      <td>1</td>\n",
       "      <td>0</td>\n",
       "      <td>0</td>\n",
       "    </tr>\n",
       "    <tr>\n",
       "      <th>1</th>\n",
       "      <td>1</td>\n",
       "      <td>0</td>\n",
       "      <td>0</td>\n",
       "    </tr>\n",
       "    <tr>\n",
       "      <th>2</th>\n",
       "      <td>1</td>\n",
       "      <td>0</td>\n",
       "      <td>0</td>\n",
       "    </tr>\n",
       "    <tr>\n",
       "      <th>3</th>\n",
       "      <td>1</td>\n",
       "      <td>0</td>\n",
       "      <td>0</td>\n",
       "    </tr>\n",
       "    <tr>\n",
       "      <th>4</th>\n",
       "      <td>1</td>\n",
       "      <td>0</td>\n",
       "      <td>0</td>\n",
       "    </tr>\n",
       "  </tbody>\n",
       "</table>\n",
       "</div>"
      ],
      "text/plain": [
       "   h  t  u\n",
       "0  1  0  0\n",
       "1  1  0  0\n",
       "2  1  0  0\n",
       "3  1  0  0\n",
       "4  1  0  0"
      ]
     },
     "execution_count": 54,
     "metadata": {},
     "output_type": "execute_result"
    }
   ],
   "source": [
    "pd.get_dummies(Housepricing['Type']).head()"
   ]
  },
  {
   "cell_type": "markdown",
   "metadata": {},
   "source": [
    "Do we really need all the three dummy variables created?"
   ]
  },
  {
   "cell_type": "code",
   "execution_count": 55,
   "metadata": {},
   "outputs": [],
   "source": [
    "Housepricing = pd.concat([Housepricing, pd.get_dummies(Housepricing['Type'])], axis=1)\n",
    "# Can deleter the orignal columns\n",
    "# del Housepricing['Type']"
   ]
  },
  {
   "cell_type": "markdown",
   "metadata": {},
   "source": [
    "Similarly you can create dummy varibles for other categorical data"
   ]
  },
  {
   "cell_type": "markdown",
   "metadata": {},
   "source": [
    "### (7) Binning Variables \n",
    "<b> Why do we need it? </b> <br>\n",
    "Depending on the situation, it can lead to a better interpretation of the numerical variable, quick user segmentation or just an additional feature for building your predictive model by creating bins for the numerical variable. You can also do categorical variable binning."
   ]
  },
  {
   "cell_type": "code",
   "execution_count": 56,
   "metadata": {},
   "outputs": [],
   "source": [
    "# Divides the data into equal-width bins\n",
    "Housepricing['Price2'] = pd.cut(Housepricing['Price'], 3,labels=['Low','Medium','High']) "
   ]
  },
  {
   "cell_type": "code",
   "execution_count": 57,
   "metadata": {},
   "outputs": [
    {
     "data": {
      "text/plain": [
       "Price2\n",
       "Low       34051\n",
       "Medium      483\n",
       "High         31\n",
       "Name: Price, dtype: int64"
      ]
     },
     "execution_count": 57,
     "metadata": {},
     "output_type": "execute_result"
    }
   ],
   "source": [
    "Housepricing.groupby('Price2')['Price'].count()"
   ]
  },
  {
   "cell_type": "code",
   "execution_count": 58,
   "metadata": {},
   "outputs": [],
   "source": [
    "# Divides the data into quantiles\n",
    "Housepricing['Price3'] = pd.qcut(Housepricing['Price'],4)"
   ]
  },
  {
   "cell_type": "code",
   "execution_count": 59,
   "metadata": {},
   "outputs": [
    {
     "data": {
      "text/plain": [
       "Price3\n",
       "(22.999, 360000.0]        8666\n",
       "(360000.0, 690000.0]      8655\n",
       "(690000.0, 1050000.0]     8629\n",
       "(1050000.0, 8000000.0]    8615\n",
       "Name: Price, dtype: int64"
      ]
     },
     "execution_count": 59,
     "metadata": {},
     "output_type": "execute_result"
    }
   ],
   "source": [
    "Housepricing.groupby('Price3')['Price'].count()"
   ]
  },
  {
   "cell_type": "markdown",
   "metadata": {},
   "source": [
    "Why aren't there same number of enteries in every bins: \n",
    "https://stackoverflow.com/questions/35183921/pandas-qcut-not-putting-equal-number-of-observations-into-each-bin"
   ]
  },
  {
   "cell_type": "markdown",
   "metadata": {},
   "source": [
    "## Exploratory Data Analysis"
   ]
  },
  {
   "cell_type": "markdown",
   "metadata": {},
   "source": [
    "### (1) Univariate plots"
   ]
  },
  {
   "cell_type": "markdown",
   "metadata": {},
   "source": [
    "Histograms"
   ]
  },
  {
   "cell_type": "code",
   "execution_count": 49,
   "metadata": {},
   "outputs": [
    {
     "data": {
      "image/png": "[encoded data removed]",
      "text/plain": [
       "<Figure size 432x288 with 1 Axes>"
      ]
     },
     "metadata": {},
     "output_type": "display_data"
    }
   ],
   "source": [
    "plt.hist(Housepricing['Price']/1000, bins=25, color='darkblue')\n",
    "plt.xlabel('Price (in 1K)')\n",
    "plt.ylabel('Frequency')\n",
    "plt.title('Histogram plot for Price')\n",
    "plt.show() "
   ]
  },
  {
   "cell_type": "code",
   "execution_count": 50,
   "metadata": {},
   "outputs": [
    {
     "name": "stderr",
     "output_type": "stream",
     "text": [
      "C:\\Users\\Sanchayni\\Anaconda3\\lib\\site-packages\\matplotlib\\axes\\_axes.py:6462: UserWarning: The 'normed' kwarg is deprecated, and has been replaced by the 'density' kwarg.\n",
      "  warnings.warn(\"The 'normed' kwarg is deprecated, and has been \"\n"
     ]
    },
    {
     "data": {
      "text/plain": [
       "<matplotlib.axes._subplots.AxesSubplot at 0x2ab1df08550>"
      ]
     },
     "execution_count": 50,
     "metadata": {},
     "output_type": "execute_result"
    },
    {
     "data": {
      "image/png": "[encoded data removed]",
      "text/plain": [
       "<Figure size 432x288 with 1 Axes>"
      ]
     },
     "metadata": {},
     "output_type": "display_data"
    }
   ],
   "source": [
    "sns.distplot(Housepricing['Price'],bins = 30)"
   ]
  },
  {
   "cell_type": "code",
   "execution_count": 87,
   "metadata": {},
   "outputs": [
    {
     "data": {
      "text/plain": [
       "<matplotlib.axes._subplots.AxesSubplot at 0x18b8dd2c898>"
      ]
     },
     "execution_count": 87,
     "metadata": {},
     "output_type": "execute_result"
    },
    {
     "data": {
      "image/png": "[encoded data removed]",
      "text/plain": [
       "<Figure size 432x288 with 1 Axes>"
      ]
     },
     "metadata": {},
     "output_type": "display_data"
    }
   ],
   "source": [
    "Housepricing['Price'].plot.hist(bins = 25)"
   ]
  },
  {
   "cell_type": "markdown",
   "metadata": {},
   "source": [
    "Box plots"
   ]
  },
  {
   "cell_type": "code",
   "execution_count": 88,
   "metadata": {},
   "outputs": [
    {
     "data": {
      "image/png": "[encoded data removed]",
      "text/plain": [
       "<Figure size 432x288 with 1 Axes>"
      ]
     },
     "metadata": {},
     "output_type": "display_data"
    }
   ],
   "source": [
    "plt.boxplot(Housepricing['Distance'])\n",
    "plt.show() "
   ]
  },
  {
   "cell_type": "code",
   "execution_count": 89,
   "metadata": {},
   "outputs": [
    {
     "data": {
      "text/plain": [
       "<matplotlib.axes._subplots.AxesSubplot at 0x18b8e7b3b00>"
      ]
     },
     "execution_count": 89,
     "metadata": {},
     "output_type": "execute_result"
    },
    {
     "data": {
      "image/png": "[encoded data removed]",
      "text/plain": [
       "<Figure size 432x288 with 1 Axes>"
      ]
     },
     "metadata": {},
     "output_type": "display_data"
    }
   ],
   "source": [
    "sns.boxplot(y= 'Distance',data=Housepricing)"
   ]
  },
  {
   "cell_type": "code",
   "execution_count": 92,
   "metadata": {},
   "outputs": [
    {
     "data": {
      "text/plain": [
       "<matplotlib.axes._subplots.AxesSubplot at 0x155999991d0>"
      ]
     },
     "execution_count": 92,
     "metadata": {},
     "output_type": "execute_result"
    },
    {
     "data": {
      "image/png": "[encoded data removed]",
      "text/plain": [
       "<Figure size 432x288 with 1 Axes>"
      ]
     },
     "metadata": {},
     "output_type": "display_data"
    }
   ],
   "source": [
    "sns.boxplot(y= 'Price', x= 'Type',data=Housepricing, palette=\"Set1\")"
   ]
  },
  {
   "cell_type": "code",
   "execution_count": 90,
   "metadata": {},
   "outputs": [
    {
     "data": {
      "text/plain": [
       "<matplotlib.axes._subplots.AxesSubplot at 0x18b8e800cf8>"
      ]
     },
     "execution_count": 90,
     "metadata": {},
     "output_type": "execute_result"
    },
    {
     "data": {
      "image/png": "[encoded data removed]",
      "text/plain": [
       "<Figure size 432x288 with 1 Axes>"
      ]
     },
     "metadata": {},
     "output_type": "display_data"
    }
   ],
   "source": [
    "sns.boxplot(y= 'Price', x= 'Rooms',data=Housepricing, palette=\"Set1\")"
   ]
  },
  {
   "cell_type": "markdown",
   "metadata": {},
   "source": [
    "### (2) Bivariate plots"
   ]
  },
  {
   "cell_type": "code",
   "execution_count": 91,
   "metadata": {},
   "outputs": [
    {
     "data": {
      "text/plain": [
       "<seaborn.axisgrid.PairGrid at 0x18b897545c0>"
      ]
     },
     "execution_count": 91,
     "metadata": {},
     "output_type": "execute_result"
    },
    {
     "data": {
      "image/png": "[encoded data removed]",
      "text/plain": [
       "<Figure size 540x540 with 12 Axes>"
      ]
     },
     "metadata": {},
     "output_type": "display_data"
    }
   ],
   "source": [
    "sns.pairplot(Housepricing_numeric)"
   ]
  },
  {
   "cell_type": "code",
   "execution_count": 20,
   "metadata": {},
   "outputs": [
    {
     "data": {
      "text/plain": [
       "Index(['Suburb', 'Address', 'Rooms', 'Type', 'Price', 'Method', 'SellerG',\n",
       "       'Date', 'Postcode', 'Regionname', 'Propertycount', 'Distance',\n",
       "       'CouncilArea', 'h', 't', 'u', 'Price2'],\n",
       "      dtype='object')"
      ]
     },
     "execution_count": 20,
     "metadata": {},
     "output_type": "execute_result"
    }
   ],
   "source": [
    "Housepricing.columns"
   ]
  },
  {
   "cell_type": "code",
   "execution_count": 95,
   "metadata": {},
   "outputs": [],
   "source": [
    "plt.rcParams['figure.figsize'] = (10,6)"
   ]
  },
  {
   "cell_type": "code",
   "execution_count": 96,
   "metadata": {},
   "outputs": [
    {
     "data": {
      "image/png": "[encoded data removed]",
      "text/plain": [
       "<Figure size 720x432 with 1 Axes>"
      ]
     },
     "metadata": {},
     "output_type": "display_data"
    }
   ],
   "source": [
    "plt.scatter(x= Housepricing.loc[Housepricing['Type'] == 'h','Price']/1000, \\\n",
    "            y= Housepricing.loc[Housepricing['Type'] == 'h','Distance'],c= 'royalblue',marker = 'o')\n",
    "plt.scatter(x= Housepricing.loc[Housepricing['Type'] == 't','Price']/1000, \\\n",
    "            y= Housepricing.loc[Housepricing['Type'] == 't','Distance'],c= 'mediumaquamarine',marker = '^')\n",
    "plt.scatter(x= Housepricing.loc[Housepricing['Type'] == 'u','Price']/1000, \\\n",
    "            y= Housepricing.loc[Housepricing['Type'] == 'u','Distance'],c= 'greenyellow',marker = 'o',alpha=0.6)\n",
    "\n",
    "plt.xlabel('Price (in 1K)')\n",
    "plt.ylabel('Distance')\n",
    "plt.title('Bivariate scatter plot')\n",
    "plt.legend(('h','t','u'))\n",
    "\n",
    "plt.show()"
   ]
  },
  {
   "cell_type": "markdown",
   "metadata": {},
   "source": [
    "Color palette: https://matplotlib.org/examples/color/named_colors.html"
   ]
  },
  {
   "cell_type": "code",
   "execution_count": 29,
   "metadata": {},
   "outputs": [],
   "source": [
    "plt.rcParams['figure.figsize'] = (7,5)"
   ]
  },
  {
   "cell_type": "code",
   "execution_count": 138,
   "metadata": {},
   "outputs": [
    {
     "data": {
      "image/png": "[encoded data removed]",
      "text/plain": [
       "<Figure size 360x360 with 1 Axes>"
      ]
     },
     "metadata": {},
     "output_type": "display_data"
    }
   ],
   "source": [
    "plt.matshow(Housepricing.corr())\n",
    "plt.show()"
   ]
  },
  {
   "cell_type": "code",
   "execution_count": 139,
   "metadata": {},
   "outputs": [
    {
     "data": {
      "text/plain": [
       "<matplotlib.axes._subplots.AxesSubplot at 0x155a03db160>"
      ]
     },
     "execution_count": 139,
     "metadata": {},
     "output_type": "execute_result"
    },
    {
     "data": {
      "image/png": "[encoded data removed]",
      "text/plain": [
       "<Figure size 504x360 with 2 Axes>"
      ]
     },
     "metadata": {},
     "output_type": "display_data"
    }
   ],
   "source": [
    "corr = Housepricing.corr()\n",
    "sns.heatmap(corr, \n",
    "            xticklabels=corr.columns.values,\n",
    "            yticklabels=corr.columns.values)"
   ]
  },
  {
   "cell_type": "markdown",
   "metadata": {},
   "source": [
    "### (3) Outlier Detection and Treatment"
   ]
  },
  {
   "cell_type": "markdown",
   "metadata": {},
   "source": [
    "<b>Based on Z score </b>"
   ]
  },
  {
   "cell_type": "code",
   "execution_count": 23,
   "metadata": {},
   "outputs": [],
   "source": [
    "from scipy import stats\n",
    "z_score = np.abs(stats.zscore(Housepricing_numeric))"
   ]
  },
  {
   "cell_type": "code",
   "execution_count": 24,
   "metadata": {},
   "outputs": [],
   "source": [
    "threshold = 3\n",
    "#np.where(z_score > 3)"
   ]
  },
  {
   "cell_type": "code",
   "execution_count": 30,
   "metadata": {},
   "outputs": [
    {
     "data": {
      "text/plain": [
       "<matplotlib.axes._subplots.AxesSubplot at 0x26fda7d2fd0>"
      ]
     },
     "execution_count": 30,
     "metadata": {},
     "output_type": "execute_result"
    },
    {
     "data": {
      "image/png": "[encoded data removed]",
      "text/plain": [
       "<Figure size 504x360 with 2 Axes>"
      ]
     },
     "metadata": {},
     "output_type": "display_data"
    }
   ],
   "source": [
    "sns.heatmap(z_score)"
   ]
  },
  {
   "cell_type": "markdown",
   "metadata": {},
   "source": [
    "<b>Based on IQR (interquartile range) </b>"
   ]
  },
  {
   "cell_type": "code",
   "execution_count": 68,
   "metadata": {},
   "outputs": [],
   "source": [
    "def capping(col):\n",
    "    quartiles = col.quantile([0.25,0.5,0.75]).values\n",
    "    IQR = (quartiles[2] - quartiles[0])\n",
    "    min_cap = quartiles[0] - (IQR*1.5)\n",
    "    max_cap = quartiles[2] + (IQR*1.5)\n",
    "    \n",
    "    col.loc[col<min_cap] = min_cap\n",
    "    col.loc[col>max_cap] = max_cap\n",
    "    return(col)"
   ]
  },
  {
   "cell_type": "code",
   "execution_count": 94,
   "metadata": {},
   "outputs": [
    {
     "data": {
      "text/plain": [
       "<matplotlib.axes._subplots.AxesSubplot at 0x26fe23e82e8>"
      ]
     },
     "execution_count": 94,
     "metadata": {},
     "output_type": "execute_result"
    },
    {
     "data": {
      "image/png": "[encoded data removed]",
      "text/plain": [
       "<Figure size 504x360 with 1 Axes>"
      ]
     },
     "metadata": {},
     "output_type": "display_data"
    }
   ],
   "source": [
    "sns.boxplot(y= 'Distance',data=Housepricing_numeric)"
   ]
  },
  {
   "cell_type": "code",
   "execution_count": 95,
   "metadata": {},
   "outputs": [],
   "source": [
    "Housepricing_numeric_capped = Housepricing_numeric.apply(lambda x: capping(x))"
   ]
  },
  {
   "cell_type": "code",
   "execution_count": 96,
   "metadata": {},
   "outputs": [
    {
     "data": {
      "text/plain": [
       "<matplotlib.axes._subplots.AxesSubplot at 0x26fe243cba8>"
      ]
     },
     "execution_count": 96,
     "metadata": {},
     "output_type": "execute_result"
    },
    {
     "data": {
      "image/png": "[encoded data removed]",
      "text/plain": [
       "<Figure size 504x360 with 1 Axes>"
      ]
     },
     "metadata": {},
     "output_type": "display_data"
    }
   ],
   "source": [
    "sns.boxplot(y= 'Distance',data=Housepricing_numeric_capped)"
   ]
  },
  {
   "cell_type": "markdown",
   "metadata": {},
   "source": [
    "<b> Random Forest/ Decision tree and Categorical variables: </b><br>\n",
    "Sadly I always used R for these models <br>\n",
    "https://www.quora.com/Does-random-forest-works-with-categorical-variables\n",
    "https://stats.stackexchange.com/questions/177852/best-practices-for-coding-categorical-features-for-decision-trees"
   ]
  },
  {
   "cell_type": "code",
   "execution_count": null,
   "metadata": {},
   "outputs": [],
   "source": []
  },
  {
   "cell_type": "code",
   "execution_count": null,
   "metadata": {},
   "outputs": [],
   "source": []
  },
  {
   "cell_type": "code",
   "execution_count": null,
   "metadata": {},
   "outputs": [],
   "source": []
  },
  {
   "cell_type": "code",
   "execution_count": null,
   "metadata": {},
   "outputs": [],
   "source": []
  },
  {
   "cell_type": "code",
   "execution_count": null,
   "metadata": {},
   "outputs": [],
   "source": []
  },
  {
   "cell_type": "code",
   "execution_count": null,
   "metadata": {},
   "outputs": [],
   "source": []
  },
  {
   "cell_type": "markdown",
   "metadata": {},
   "source": [
    "#### Imputation!"
   ]
  },
  {
   "cell_type": "code",
   "execution_count": 31,
   "metadata": {},
   "outputs": [],
   "source": [
    "from sklearn.preprocessing import Imputer"
   ]
  },
  {
   "cell_type": "code",
   "execution_count": 78,
   "metadata": {},
   "outputs": [
    {
     "data": {
      "text/plain": [
       "Imputer(axis=0, copy=True, missing_values='NaN', strategy='mean', verbose=0)"
      ]
     },
     "execution_count": 78,
     "metadata": {},
     "output_type": "execute_result"
    }
   ],
   "source": [
    "imputer = Imputer(missing_values='NaN',strategy='mean',axis=0) \n",
    "imputer.fit(Housepricing[['Rooms','Price','Postcode','Propertycount','Distance']])"
   ]
  },
  {
   "cell_type": "code",
   "execution_count": 79,
   "metadata": {},
   "outputs": [],
   "source": [
    "Housepricing[['Rooms','Price','Postcode','Propertycount','Distance']] = \\\n",
    "imputer.transform(Housepricing[['Rooms','Price','Postcode','Propertycount','Distance']])"
   ]
  },
  {
   "cell_type": "code",
   "execution_count": 80,
   "metadata": {},
   "outputs": [],
   "source": [
    "Imputations = pd.DataFrame({'Mean': Housepricing['Price']})"
   ]
  },
  {
   "cell_type": "code",
   "execution_count": null,
   "metadata": {},
   "outputs": [
    {
     "name": "stderr",
     "output_type": "stream",
     "text": [
      "Using TensorFlow backend.\n"
     ]
    }
   ],
   "source": [
    "from fancyimpute import KNN    "
   ]
  }
 ],
 "metadata": {
  "kernelspec": {
   "display_name": "Python 3",
   "language": "python",
   "name": "python3"
  },
  "language_info": {
   "codemirror_mode": {
    "name": "ipython",
    "version": 3
   },
   "file_extension": ".py",
   "mimetype": "text/x-python",
   "name": "python",
   "nbconvert_exporter": "python",
   "pygments_lexer": "ipython3",
   "version": "3.6.4"
  }
 },
 "nbformat": 4,
 "nbformat_minor": 2
}
